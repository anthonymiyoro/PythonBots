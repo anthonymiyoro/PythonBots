{
 "cells": [
  {
   "cell_type": "markdown",
   "metadata": {},
   "source": [
    "We start by importing our dependancies and dataset"
   ]
  },
  {
   "cell_type": "code",
   "execution_count": 1,
   "metadata": {},
   "outputs": [],
   "source": [
    "# Import Dependencies\n",
    "%matplotlib inline\n",
    "\n",
    "# Start Python Imports\n",
    "import math, time, random, datetime\n",
    "\n",
    "# Data Manipulation\n",
    "import numpy as np\n",
    "import pandas as pd\n",
    "\n",
    "# Visualization \n",
    "import matplotlib.pyplot as plt\n",
    "# from quilt.data.ResidentMario import missingno_data\n",
    "# import missingno as msno\n",
    "\n",
    "import seaborn as sns\n",
    "\n",
    "\n",
    "# Machine learning\n",
    "# import catboost\n",
    "from sklearn.model_selection import train_test_split\n",
    "from sklearn import model_selection, tree, preprocessing, metrics, linear_model\n",
    "from sklearn.svm import LinearSVC\n",
    "from sklearn.ensemble import GradientBoostingClassifier\n",
    "from sklearn.neighbors import KNeighborsClassifier\n",
    "from sklearn.naive_bayes import GaussianNB\n",
    "from sklearn.linear_model import LinearRegression, LogisticRegression, SGDClassifier\n",
    "from sklearn.tree import DecisionTreeClassifier\n",
    "# from catboost import CatBoostClassifier, Pool, cv\n",
    "\n",
    "# Preprocessing\n",
    "from sklearn.preprocessing import OneHotEncoder, LabelEncoder, label_binarize\n",
    "\n",
    "\n",
    "\n",
    "# from pandas_summary import DataFrameSummary\n",
    "from sklearn.ensemble import RandomForestRegressor, RandomForestClassifier\n",
    "\n",
    "\n",
    "from sklearn import metrics"
   ]
  },
  {
   "cell_type": "code",
   "execution_count": 3,
   "metadata": {},
   "outputs": [],
   "source": [
    "test = pd.read_csv('/Users/anthonymiyoro/Desktop/rossman_store/data/test.csv')\n",
    "train_store = pd.read_csv('/Users/anthonymiyoro/Desktop/rossman_store/data/train_store.csv')"
   ]
  },
  {
   "cell_type": "code",
   "execution_count": 6,
   "metadata": {},
   "outputs": [
    {
     "data": {
      "text/html": [
       "<div>\n",
       "<style>\n",
       "    .dataframe thead tr:only-child th {\n",
       "        text-align: right;\n",
       "    }\n",
       "\n",
       "    .dataframe thead th {\n",
       "        text-align: left;\n",
       "    }\n",
       "\n",
       "    .dataframe tbody tr th {\n",
       "        vertical-align: top;\n",
       "    }\n",
       "</style>\n",
       "<table border=\"1\" class=\"dataframe\">\n",
       "  <thead>\n",
       "    <tr style=\"text-align: right;\">\n",
       "      <th></th>\n",
       "      <th>Store\tDayOfWeek\tDate\tSales\tCustomers\tOpen\tPromo\tStateHoliday\tSchoolHoliday\tStoreType\tAssortment\tCompetitionDistance\tCompetitionOpenSinceMonth\tCompetitionOpenSinceYear\tPromo2\tPromo2SinceWeek\tPromo2SinceYear\tPromoInterval</th>\n",
       "    </tr>\n",
       "  </thead>\n",
       "  <tbody>\n",
       "    <tr>\n",
       "      <th>0</th>\n",
       "      <td>0\\t1\\t5\\t2015-07-31\\t5263\\t555\\t1\\t1\\t0\\t1\\tc\\...</td>\n",
       "    </tr>\n",
       "    <tr>\n",
       "      <th>1</th>\n",
       "      <td>1\\t2\\t5\\t2015-07-31\\t6064\\t625\\t1\\t1\\t0\\t1\\ta\\...</td>\n",
       "    </tr>\n",
       "    <tr>\n",
       "      <th>2</th>\n",
       "      <td>2\\t3\\t5\\t2015-07-31\\t8314\\t821\\t1\\t1\\t0\\t1\\ta\\...</td>\n",
       "    </tr>\n",
       "    <tr>\n",
       "      <th>3</th>\n",
       "      <td>3\\t4\\t5\\t2015-07-31\\t13995\\t1498\\t1\\t1\\t0\\t1\\t...</td>\n",
       "    </tr>\n",
       "    <tr>\n",
       "      <th>4</th>\n",
       "      <td>4\\t5\\t5\\t2015-07-31\\t4822\\t559\\t1\\t1\\t0\\t1\\ta\\...</td>\n",
       "    </tr>\n",
       "  </tbody>\n",
       "</table>\n",
       "</div>"
      ],
      "text/plain": [
       "  \\tStore\\tDayOfWeek\\tDate\\tSales\\tCustomers\\tOpen\\tPromo\\tStateHoliday\\tSchoolHoliday\\tStoreType\\tAssortment\\tCompetitionDistance\\tCompetitionOpenSinceMonth\\tCompetitionOpenSinceYear\\tPromo2\\tPromo2SinceWeek\\tPromo2SinceYear\\tPromoInterval\n",
       "0  0\\t1\\t5\\t2015-07-31\\t5263\\t555\\t1\\t1\\t0\\t1\\tc\\...                                                                                                                                                                                            \n",
       "1  1\\t2\\t5\\t2015-07-31\\t6064\\t625\\t1\\t1\\t0\\t1\\ta\\...                                                                                                                                                                                            \n",
       "2  2\\t3\\t5\\t2015-07-31\\t8314\\t821\\t1\\t1\\t0\\t1\\ta\\...                                                                                                                                                                                            \n",
       "3  3\\t4\\t5\\t2015-07-31\\t13995\\t1498\\t1\\t1\\t0\\t1\\t...                                                                                                                                                                                            \n",
       "4  4\\t5\\t5\\t2015-07-31\\t4822\\t559\\t1\\t1\\t0\\t1\\ta\\...                                                                                                                                                                                            "
      ]
     },
     "execution_count": 6,
     "metadata": {},
     "output_type": "execute_result"
    }
   ],
   "source": [
    "train_store.head(5)\n",
    "# train_store.head(5)"
   ]
  }
 ],
 "metadata": {
  "kernelspec": {
   "display_name": "Python 3",
   "language": "python",
   "name": "python3"
  },
  "language_info": {
   "codemirror_mode": {
    "name": "ipython",
    "version": 3
   },
   "file_extension": ".py",
   "mimetype": "text/x-python",
   "name": "python",
   "nbconvert_exporter": "python",
   "pygments_lexer": "ipython3",
   "version": "3.5.2"
  }
 },
 "nbformat": 4,
 "nbformat_minor": 2
}
